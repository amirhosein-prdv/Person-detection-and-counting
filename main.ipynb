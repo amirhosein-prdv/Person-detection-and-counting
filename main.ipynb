{
 "cells": [
  {
   "cell_type": "code",
   "execution_count": 13,
   "metadata": {},
   "outputs": [],
   "source": [
    "import numpy as np\n",
    "from urllib.request import urlretrieve\n",
    "\n",
    "from Src import personDetection\n",
    "from imageai.Detection import ObjectDetection, VideoObjectDetection"
   ]
  },
  {
   "cell_type": "markdown",
   "metadata": {},
   "source": [
    "## Initialization"
   ]
  },
  {
   "cell_type": "code",
   "execution_count": 2,
   "metadata": {},
   "outputs": [],
   "source": [
    "input_video_path = 'test.mp4'\n",
    "output_path = './results/'\n",
    "polygon = np.array([[250, 80], [380, 80], [380, 160], [250, 160]])"
   ]
  },
  {
   "cell_type": "markdown",
   "metadata": {},
   "source": [
    "## Models"
   ]
  },
  {
   "cell_type": "markdown",
   "metadata": {},
   "source": [
    "### download pre-train models"
   ]
  },
  {
   "cell_type": "code",
   "execution_count": null,
   "metadata": {},
   "outputs": [],
   "source": [
    "retina_link = 'https://github.com/OlafenwaMoses/ImageAI/releases/download/3.0.0-pretrained/retinanet_resnet50_fpn_coco-eeacb38b.pth/'\n",
    "yolov3_link = 'https://github.com/OlafenwaMoses/ImageAI/releases/download/3.0.0-pretrained/yolov3.pt/'\n",
    "\n",
    "urlretrieve(retina_link, 'models/retina.pth')\n",
    "urlretrieve(yolov3_link, 'models/yolov3.pt')"
   ]
  },
  {
   "cell_type": "markdown",
   "metadata": {},
   "source": [
    "### define models"
   ]
  },
  {
   "cell_type": "code",
   "execution_count": 3,
   "metadata": {},
   "outputs": [],
   "source": [
    "imageDetector = ObjectDetection()\n",
    "imageDetector.setModelTypeAsYOLOv3()\n",
    "imageDetector.setModelPath(\"models/yolov3.pt\")\n",
    "\n",
    "imageDetector.loadModel()\n",
    "\n",
    "# set only person detection \n",
    "custom = imageDetector.CustomObjects(person=True)"
   ]
  },
  {
   "cell_type": "code",
   "execution_count": 4,
   "metadata": {},
   "outputs": [
    {
     "name": "stderr",
     "output_type": "stream",
     "text": [
      "c:\\Users\\Amirhosein\\AppData\\Local\\Programs\\Python\\Python39\\lib\\site-packages\\torchvision\\models\\_utils.py:208: UserWarning: The parameter 'pretrained' is deprecated since 0.13 and may be removed in the future, please use 'weights' instead.\n",
      "  warnings.warn(\n",
      "c:\\Users\\Amirhosein\\AppData\\Local\\Programs\\Python\\Python39\\lib\\site-packages\\torchvision\\models\\_utils.py:223: UserWarning: Arguments other than a weight enum or `None` for 'weights' are deprecated since 0.13 and may be removed in the future. The current behavior is equivalent to passing `weights=None`.\n",
      "  warnings.warn(msg)\n",
      "c:\\Users\\Amirhosein\\AppData\\Local\\Programs\\Python\\Python39\\lib\\site-packages\\torchvision\\models\\_utils.py:208: UserWarning: The parameter 'pretrained_backbone' is deprecated since 0.13 and may be removed in the future, please use 'weights_backbone' instead.\n",
      "  warnings.warn(\n",
      "c:\\Users\\Amirhosein\\AppData\\Local\\Programs\\Python\\Python39\\lib\\site-packages\\torchvision\\models\\_utils.py:223: UserWarning: Arguments other than a weight enum or `None` for 'weights_backbone' are deprecated since 0.13 and may be removed in the future. The current behavior is equivalent to passing `weights_backbone=None`.\n",
      "  warnings.warn(msg)\n"
     ]
    }
   ],
   "source": [
    "videoDetector = VideoObjectDetection()\n",
    "videoDetector.setModelTypeAsRetinaNet()\n",
    "videoDetector.setModelPath(\"models/retina.pth\")\n",
    "\n",
    "videoDetector.loadModel()\n",
    "\n",
    "# set only person detection   \n",
    "custom = videoDetector.CustomObjects(person=True)"
   ]
  },
  {
   "cell_type": "markdown",
   "metadata": {},
   "source": [
    "### Detect persons"
   ]
  },
  {
   "cell_type": "code",
   "execution_count": 5,
   "metadata": {},
   "outputs": [
    {
     "data": {
      "text/plain": [
       "'./result/person_detected.mp4'"
      ]
     },
     "execution_count": 5,
     "metadata": {},
     "output_type": "execute_result"
    }
   ],
   "source": [
    "output_video_path = output_path + 'person_detected'\n",
    "\n",
    "videoDetector.detectObjectsFromVideo(input_file_path=input_video_path,\n",
    "                                    output_file_path=output_video_path,\n",
    "                                    frames_per_second=20,\n",
    "                                    log_progress=False,\n",
    "                                    display_percentage_probability=False,\n",
    "                                    custom_objects=custom)"
   ]
  },
  {
   "cell_type": "markdown",
   "metadata": {},
   "source": [
    "### Count the number of people"
   ]
  },
  {
   "cell_type": "code",
   "execution_count": 6,
   "metadata": {},
   "outputs": [],
   "source": [
    "output_video_path = output_path + 'count_detected.mp4'\n",
    "\n",
    "personDetection(input_video_path, \n",
    "                output_video_path, \n",
    "                imageDetector,\n",
    "                custom=custom,\n",
    "                imshow=False, # pass True for show in realtime\n",
    "                ) "
   ]
  },
  {
   "cell_type": "markdown",
   "metadata": {},
   "source": [
    "### Count the number of people within a zone"
   ]
  },
  {
   "cell_type": "code",
   "execution_count": 7,
   "metadata": {},
   "outputs": [],
   "source": [
    "output_video_path = output_path + 'zone_detected.mp4'\n",
    "\n",
    "personDetection(input_video_path, \n",
    "                output_video_path, \n",
    "                imageDetector,\n",
    "                polygon=polygon,\n",
    "                custom=custom,\n",
    "                imshow=False, # pass True for show in realtime\n",
    "                )"
   ]
  }
 ],
 "metadata": {
  "kernelspec": {
   "display_name": "Python 3",
   "language": "python",
   "name": "python3"
  },
  "language_info": {
   "codemirror_mode": {
    "name": "ipython",
    "version": 3
   },
   "file_extension": ".py",
   "mimetype": "text/x-python",
   "name": "python",
   "nbconvert_exporter": "python",
   "pygments_lexer": "ipython3",
   "version": "3.9.6"
  }
 },
 "nbformat": 4,
 "nbformat_minor": 2
}
